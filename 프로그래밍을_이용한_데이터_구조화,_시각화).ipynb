{
  "nbformat": 4,
  "nbformat_minor": 0,
  "metadata": {
    "colab": {
      "provenance": []
    },
    "kernelspec": {
      "name": "python3",
      "display_name": "Python 3"
    },
    "language_info": {
      "name": "python"
    }
  },
  "cells": [
    {
      "cell_type": "code",
      "execution_count": null,
      "metadata": {
        "id": "bENFG05v8qvo"
      },
      "outputs": [],
      "source": [
        "# 1. 파이썬의 기본 원리 import xxx (xxx라는 도구집(필통)을 불러와 가져다 쓰겠다!!!)\n",
        "# 2. xxx.연필, xxx.샤프 (이런식으로 xxx에서 도구를 꺼내서 쓴다)\n",
        "# 3. 파이썬은 이런 유용한 도구를 많이 가지고 있다.\n",
        "# 4. 프로그래밍에서 왼쪽 = 오른쪽의 형태를 많이 볼 수 있다.\n",
        "# 5. 왼쪽은 id(변수)라 생각하면 되고 오른쪽이 명령어이다.\n",
        "# 6. car = 10 <- car라는 id에 10을 집어넣으라는 명령어이다! "
      ]
    },
    {
      "cell_type": "code",
      "source": [
        "# 프로그래밍을 활용한 산포도 시각화\n",
        "\n",
        "import plotly.express as px #필통이름이 너무 길어서 (px)로 간소화\n",
        "fig = px.scatter(x=[0, 1, 2, 3, 4], y=[0, 1, 4, 9, 16])\n",
        "fig.show()"
      ],
      "metadata": {
        "id": "LVG-jF_i9w7f"
      },
      "execution_count": null,
      "outputs": []
    },
    {
      "cell_type": "code",
      "source": [
        "#프로그래밍을 활용한 선 그래프 시각화 \n",
        "import plotly.express as px\n",
        "\n",
        "month = [1,2,3,4,5,6,7,8,9,10,11,12]\n",
        "stress = [,,,,,,,,,,,]\n",
        "\n",
        "fig = px.line(month, stress, title='달마다 나의 스트레스')\n",
        "fig.show()"
      ],
      "metadata": {
        "id": "F3Ul8HpO-Xxc"
      },
      "execution_count": null,
      "outputs": []
    },
    {
      "cell_type": "code",
      "source": [
        "# 프로그래밍을 활용한 원 그래프 시각화\n",
        "\n",
        "import plotly.express as px\n",
        "\n",
        "life = ['','','','','','']\n",
        "number = [,,,,,]\n",
        "\n",
        "fig = px.pie(values=number,names=life, title='내 삶의 비중')\n",
        "fig.show()"
      ],
      "metadata": {
        "id": "E8vCyfXj_AIc"
      },
      "execution_count": null,
      "outputs": []
    },
    {
      "cell_type": "markdown",
      "source": [
        "### 그런데 사실...\n",
        "\n",
        "- 위 시각화는 일반적인 엑셀, 구글 스프레드시트에서도 충분히 활용할 수 있다.\n",
        "- 그렇다면 프로그래밍을 통해서 시각화, 구조화할 수 있는 장점은 무엇일까?\n"
      ],
      "metadata": {
        "id": "71nFIe8J_8uw"
      }
    },
    {
      "cell_type": "markdown",
      "source": [
        "#### 강원도 연도별 시군구 인구 통계\n",
        "* https://github.com/CarlosQuperman/2023oneday/blob/main/%EA%B0%95%EC%9B%90%EB%8F%84_%EC%8B%9C%EA%B5%B0%EB%B3%84%20%EC%84%B8%EB%8C%80%EC%9D%B8%EA%B5%AC%20%ED%86%B5%EA%B3%84_20200630.csv"
      ],
      "metadata": {
        "id": "dmNExiWfBRdA"
      }
    },
    {
      "cell_type": "code",
      "source": [
        "import pandas as pd\n",
        "import plotly.express as px\n",
        "\n",
        "kang_pop = pd.read_csv(\"\")\n",
        "display(kang_pop.head())\n",
        "display(kang_pop.info())"
      ],
      "metadata": {
        "id": "_6oUKn3yBzdf"
      },
      "execution_count": null,
      "outputs": []
    },
    {
      "cell_type": "code",
      "source": [
        "px.bar(kang_pop,x=\"시군명\",y=\"인구 (명)\",animation_frame=\"해당연도\",animation_group=\"시군명\",color=\"시군명\")"
      ],
      "metadata": {
        "id": "XI9vjwhFCWiZ"
      },
      "execution_count": null,
      "outputs": []
    },
    {
      "cell_type": "markdown",
      "source": [
        "### Fifa 2023 선수 데이터\n",
        "\n",
        "- https://github.com/CarlosQuperman/2023oneday/blob/main/Fifa%2023%20Players%20Data.csv"
      ],
      "metadata": {
        "id": "Ayt63kMCBpUf"
      }
    },
    {
      "cell_type": "code",
      "source": [
        "pd.set_option('display.max_row', 500)\n",
        "\n",
        "fifa_23 = pd.read_csv(\"\")\n",
        "display(fifa_23.head())\n",
        "display(fifa_23.info(verbose=True))\n"
      ],
      "metadata": {
        "id": "pZxLTSs3JidO"
      },
      "execution_count": null,
      "outputs": []
    },
    {
      "cell_type": "code",
      "source": [
        "fifa_23_100 = fifa_23.head().copy()\n",
        "fifa_23_100.info(verbose=True)"
      ],
      "metadata": {
        "id": "y_p0oFDjNf2G"
      },
      "execution_count": null,
      "outputs": []
    },
    {
      "cell_type": "code",
      "source": [
        "#x축 전체 능력, y축 포텐셜 z축 나이 색깔은 소속국가 대표이름은 약칭(Known as)\n",
        "fig = px.scatter_3d(fifa_23_100,x=\"Overall\",y=\"\",z=\"\",color=\"Nationality\",size_max=1,hover_name='',height=1000,width=800,title=\"FIFA 2023 선수 능력치 시각화\")\n",
        "fig.show()"
      ],
      "metadata": {
        "id": "3yuHO2JlNwS6"
      },
      "execution_count": null,
      "outputs": []
    }
  ]
}